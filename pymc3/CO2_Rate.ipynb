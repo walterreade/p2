{
 "cells": [
  {
   "cell_type": "markdown",
   "metadata": {},
   "source": [
    "# CO2 Rate Switchpoint Analysis"
   ]
  },
  {
   "cell_type": "code",
   "execution_count": 1,
   "metadata": {
    "collapsed": false
   },
   "outputs": [],
   "source": [
    "%matplotlib inline\n",
    "from __future__ import division\n",
    "from __future__ import print_function\n",
    "\n",
    "import numpy as np\n",
    "import pandas as pd\n",
    "import pymc3 as pm\n",
    "\n",
    "from scipy.optimize import fmin_powell\n",
    "\n",
    "import matplotlib.pyplot as plt\n",
    "import seaborn as sns\n",
    "sns.set_style(\"whitegrid\")"
   ]
  },
  {
   "cell_type": "code",
   "execution_count": 3,
   "metadata": {
    "collapsed": false
   },
   "outputs": [
    {
     "name": "stdout",
     "output_type": "stream",
     "text": [
      "0.8.0rc1.dev-c6979aeeb39178bf8913dd4c642f60914836be29\n",
      "3.0\n",
      "1.10.4\n"
     ]
    },
    {
     "data": {
      "text/plain": [
       "'\\nWindows:\\n0.8.0rc1.dev-c6979aeeb39178bf8913dd4c642f60914836be29\\n3.0\\n1.10.0\\n\\nLinux:\\n0.8.0rc1.dev-c6979aeeb39178bf8913dd4c642f60914836be29\\n3.0\\n1.10.4\\n'"
      ]
     },
     "execution_count": 3,
     "metadata": {},
     "output_type": "execute_result"
    }
   ],
   "source": [
    "# for reference\n",
    "import theano\n",
    "print(theano.__version__)\n",
    "print(pm.__version__)\n",
    "print(np.__version__)\n",
    "\n",
    "'''\n",
    "Windows:\n",
    "0.8.0rc1.dev-c6979aeeb39178bf8913dd4c642f60914836be29\n",
    "3.0\n",
    "1.10.0\n",
    "\n",
    "Linux:\n",
    "0.8.0rc1.dev-c6979aeeb39178bf8913dd4c642f60914836be29\n",
    "3.0\n",
    "1.10.4\n",
    "'''"
   ]
  },
  {
   "cell_type": "code",
   "execution_count": 4,
   "metadata": {
    "collapsed": true
   },
   "outputs": [],
   "source": [
    "# Original data from: http://esrl.noaa.gov/gmd/ccgg/trends/global.html\n",
    "data = pd.read_csv('data/co2_rate.csv')"
   ]
  },
  {
   "cell_type": "code",
   "execution_count": 5,
   "metadata": {
    "collapsed": false
   },
   "outputs": [
    {
     "data": {
      "image/png": "[encoded data removed]",
      "text/plain": [
       "<matplotlib.figure.Figure at 0x7ff9ecf6fc50>"
      ]
     },
     "metadata": {},
     "output_type": "display_data"
    }
   ],
   "source": [
    "plt.figure(figsize=(12,6))\n",
    "plt.xticks(rotation=70)\n",
    "sns.barplot(x='year', y='ppm_per_year', data=data, color='salmon')\n",
    "plt.ylim((0,4))\n",
    "plt.ylabel('$CO_2$ Increase', fontsize=14)\n",
    "plt.xlabel('Year', fontsize=14)\n",
    "plt.title('$CO_2$ Increase per Year', fontsize=18)\n",
    "plt.show()"
   ]
  },
  {
   "cell_type": "code",
   "execution_count": 6,
   "metadata": {
    "collapsed": true
   },
   "outputs": [],
   "source": [
    "year = np.arange(1959,2016)"
   ]
  },
  {
   "cell_type": "code",
   "execution_count": null,
   "metadata": {
    "collapsed": false
   },
   "outputs": [],
   "source": [
    "with pm.Model() as model:\n",
    "    \n",
    "    # prior for distribution of switchpoint year\n",
    "    switchpoint = pm.DiscreteUniform('switchpoint', lower=year.min(), upper=year.max(), testval=1980)\n",
    "#     switchpoint = 1980\n",
    "    \n",
    "    # prior for pre- and post-switch intercept\n",
    "    a_0 = pm.Normal('a_0', 0, 1)\n",
    "    a_1 = pm.Normal('a_1', 0, 1)    \n",
    "    \n",
    "    # prior for pre- and post-switch slope\n",
    "    b_0 = pm.Normal('b_0', 0, 0.1)\n",
    "    b_1 = pm.Normal('b_1', 0, 0.1)\n",
    "    \n",
    "    # priors for sigma\n",
    "#     s = pm.Uniform('s', 0.0, 0.1)\n",
    "#     s_0 = pm.HalfCauchy('s_0', 1, testval=0.5)\n",
    "#     s_1 = pm.HalfCauchy('s_1', 1, testval=0.5)\n",
    "    \n",
    "    # Assign slopes to appropriate pre- and post-switchpoint locations\n",
    "    intercept = pm.switch(switchpoint >= year, a_0, a_1)\n",
    "    slope = pm.switch(switchpoint >= year, b_0, b_1)\n",
    "#     sigma = pm.switch(switchpoint >= year, s_0, s_1)\n",
    "    \n",
    "    # Data likelihood\n",
    "#     y_est = a_0 + b_0 * data['year']\n",
    "    y_est = intercept + slope * data['year']    \n",
    "    co2_rate = pm.Normal('co2_rate', mu=y_est , sd=0.01, observed=data['ppm_per_year'])"
   ]
  },
  {
   "cell_type": "code",
   "execution_count": null,
   "metadata": {
    "collapsed": false
   },
   "outputs": [
    {
     "name": "stdout",
     "output_type": "stream",
     "text": [
      " [-----------------45%                  ] 4533 of 10000 complete in 105.4 sec"
     ]
    }
   ],
   "source": [
    "n = 10000\n",
    "burn = n/2\n",
    "stride = 5\n",
    "\n",
    "with model:\n",
    "    start = pm.find_MAP(fmin=fmin_powell)\n",
    "#     start['switchpoint'] = start['switchpoint'].astype(np.int64)\n",
    "    trace = pm.sample(10000, step=pm.Metropolis(), start=start)\n",
    "    start = trace[-1]\n",
    "#     step1 = pm.NUTS([a_0, a_1, b_0, b_1], scaling=start)\n",
    "    step1 = pm.NUTS(scaling=start)\n",
    "    step2 = pm.Metropolis([switchpoint])\n",
    "    trace = pm.sample(n, step=[step1, step2], start=start)"
   ]
  },
  {
   "cell_type": "code",
   "execution_count": null,
   "metadata": {
    "collapsed": false
   },
   "outputs": [],
   "source": [
    "# Only use last half of trace, and every 10th point\n",
    "pm.traceplot(trace[burn::stride])\n",
    "# pm.traceplot(trace[-n/2::10], vars=['switchpoint', 'b_0', 'b_1'])\n",
    "plt.show()"
   ]
  },
  {
   "cell_type": "code",
   "execution_count": null,
   "metadata": {
    "collapsed": false
   },
   "outputs": [],
   "source": [
    "plt.figure(figsize=(12,4))\n",
    "plt.hist(trace[-n/2::10]['switchpoint'], bins=np.arange(1959, 2016))\n",
    "plt.title('Likelihood of Change in Slope', fontsize=18)\n",
    "plt.xlabel('Year', fontsize=14)\n",
    "plt.show()"
   ]
  },
  {
   "cell_type": "code",
   "execution_count": 16,
   "metadata": {
    "collapsed": false
   },
   "outputs": [
    {
     "data": {
      "image/png": "[encoded data removed]",
      "text/plain": [
       "<matplotlib.figure.Figure at 0x2a67ce48>"
      ]
     },
     "metadata": {},
     "output_type": "display_data"
    }
   ],
   "source": [
    "plt.figure(figsize=(12,6))\n",
    "\n",
    "plt.xticks(rotation=70)\n",
    "plt.scatter(data['year'], data['ppm_per_year'])\n",
    "plt.ylim((0,4))\n",
    "plt.ylabel('$CO_2$ Increase', fontsize=14)\n",
    "plt.xlabel('Year', fontsize=14)\n",
    "plt.title('$CO_2$ Increase per Year', fontsize=18)\n",
    "\n",
    "x = np.arange(1959, switchpoint)\n",
    "y = np.median(trace[-n/2::10]['a_0']) + np.median(trace[-n/2::10]['b_0']) * x\n",
    "plt.plot(x, y)\n",
    "\n",
    "x = np.arange(switchpoint, 2020)\n",
    "y = np.median(trace[-n/2::5]['a_1']) + np.median(trace[-n/2::5]['b_1']) * x\n",
    "plt.plot(x, y)\n",
    "\n",
    "plt.show()"
   ]
  },
  {
   "cell_type": "code",
   "execution_count": null,
   "metadata": {
    "collapsed": false
   },
   "outputs": [],
   "source": [
    "print(np.median(trace[-n/2::5]['switchpoint']))\n",
    "print(np.median(trace[-n/2::5]['b_0']))\n",
    "print(np.median(trace[-n/2::5]['b_1']))"
   ]
  },
  {
   "cell_type": "code",
   "execution_count": null,
   "metadata": {
    "collapsed": false
   },
   "outputs": [],
   "source": []
  },
  {
   "cell_type": "raw",
   "metadata": {},
   "source": []
  },
  {
   "cell_type": "code",
   "execution_count": 32,
   "metadata": {
    "collapsed": false
   },
   "outputs": [
    {
     "data": {
      "text/plain": [
       "array([1980])"
      ]
     },
     "execution_count": 32,
     "metadata": {},
     "output_type": "execute_result"
    }
   ],
   "source": []
  },
  {
   "cell_type": "code",
   "execution_count": 35,
   "metadata": {
    "collapsed": false
   },
   "outputs": [
    {
     "data": {
      "text/plain": [
       "'0.8.0rc1.dev-c6979aeeb39178bf8913dd4c642f60914836be29'"
      ]
     },
     "execution_count": 35,
     "metadata": {},
     "output_type": "execute_result"
    }
   ],
   "source": [
    "import theano; theano.__version__"
   ]
  },
  {
   "cell_type": "code",
   "execution_count": null,
   "metadata": {
    "collapsed": false
   },
   "outputs": [],
   "source": [
    "pm.__version__"
   ]
  },
  {
   "cell_type": "code",
   "execution_count": null,
   "metadata": {
    "collapsed": true
   },
   "outputs": [],
   "source": []
  },
  {
   "cell_type": "code",
   "execution_count": null,
   "metadata": {
    "collapsed": true
   },
   "outputs": [],
   "source": []
  }
 ],
 "metadata": {
  "kernelspec": {
   "display_name": "Python 2",
   "language": "python",
   "name": "python2"
  },
  "language_info": {
   "codemirror_mode": {
    "name": "ipython",
    "version": 2
   },
   "file_extension": ".py",
   "mimetype": "text/x-python",
   "name": "python",
   "nbconvert_exporter": "python",
   "pygments_lexer": "ipython2",
   "version": "2.7.11"
  }
 },
 "nbformat": 4,
 "nbformat_minor": 0
}
