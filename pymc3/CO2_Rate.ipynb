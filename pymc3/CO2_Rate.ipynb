{
 "cells": [
  {
   "cell_type": "markdown",
   "metadata": {},
   "source": [
    "# CO2 Rate Switchpoint Analysis"
   ]
  },
  {
   "cell_type": "code",
   "execution_count": 1,
   "metadata": {
    "collapsed": false
   },
   "outputs": [
    {
     "name": "stdout",
     "output_type": "stream",
     "text": [
      "Warning: patsy not found, not importing glm submodule.\n"
     ]
    }
   ],
   "source": [
    "%matplotlib inline\n",
    "from __future__ import division\n",
    "from __future__ import print_function\n",
    "\n",
    "import numpy as np\n",
    "import pandas as pd\n",
    "import pymc3 as pm\n",
    "\n",
    "from scipy.optimize import fmin_powell\n",
    "\n",
    "import matplotlib.pyplot as plt\n",
    "import seaborn as sns\n",
    "sns.set_style(\"whitegrid\")"
   ]
  },
  {
   "cell_type": "code",
   "execution_count": 2,
   "metadata": {
    "collapsed": false
   },
   "outputs": [
    {
     "name": "stdout",
     "output_type": "stream",
     "text": [
      "0.8.0rc1.dev-1567d91d91f91adfc3f6aa140bebe57877adf444\n",
      "3.0\n",
      "1.10.4\n"
     ]
    },
    {
     "data": {
      "text/plain": [
       "'\\nWindows:\\n0.8.0rc1.dev-c6979aeeb39178bf8913dd4c642f60914836be29\\n3.0\\n1.10.4\\n\\nLinux:\\n0.8.0rc1.dev-c6979aeeb39178bf8913dd4c642f60914836be29\\n3.0\\n1.10.4\\n\\nKC: - Works\\n0.7.0\\n3.0\\n1.10.4\\n\\nWindows: pip install --upgrade --no-deps git+git://github.com/Theano/Theano.git\\n0.8.0rc1.dev-2fe88f363944cee9f189ab03c735a49795359005\\n3.0\\n1.10.4\\n\\n\\nWindows: pip install -U git+https://github.com/Theano/Theano.git@8b7b5b400854d9fbc2a0b6b8f2ad0f9224cc2257\\n0.8.0rc1.dev-8b7b5b400854d9fbc2a0b6b8f2ad0f9224cc2257\\n3.0\\n1.10.4\\n\\n0.8.0rc1.dev-22b943c3a06ab106fd76650e58de243c217081eb\\n3.0\\n1.10.4\\n\\n\\n0.8.0rc1.dev-1567d91d91f91adfc3f6aa140bebe57877adf444\\n3.0\\n1.10.4\\n'"
      ]
     },
     "execution_count": 2,
     "metadata": {},
     "output_type": "execute_result"
    }
   ],
   "source": [
    "# for reference\n",
    "import theano\n",
    "print(theano.__version__)\n",
    "print(pm.__version__)\n",
    "print(np.__version__)\n",
    "\n",
    "'''\n",
    "Windows:\n",
    "0.8.0rc1.dev-c6979aeeb39178bf8913dd4c642f60914836be29\n",
    "3.0\n",
    "1.10.4\n",
    "\n",
    "Linux:\n",
    "0.8.0rc1.dev-c6979aeeb39178bf8913dd4c642f60914836be29\n",
    "3.0\n",
    "1.10.4\n",
    "\n",
    "KC: - Works\n",
    "0.7.0\n",
    "3.0\n",
    "1.10.4\n",
    "\n",
    "Windows: pip install --upgrade --no-deps git+git://github.com/Theano/Theano.git\n",
    "0.8.0rc1.dev-2fe88f363944cee9f189ab03c735a49795359005\n",
    "3.0\n",
    "1.10.4\n",
    "\n",
    "\n",
    "Windows: pip install -U git+https://github.com/Theano/Theano.git@8b7b5b400854d9fbc2a0b6b8f2ad0f9224cc2257\n",
    "0.8.0rc1.dev-8b7b5b400854d9fbc2a0b6b8f2ad0f9224cc2257\n",
    "3.0\n",
    "1.10.4\n",
    "\n",
    "0.8.0rc1.dev-22b943c3a06ab106fd76650e58de243c217081eb\n",
    "3.0\n",
    "1.10.4\n",
    "\n",
    "\n",
    "0.8.0rc1.dev-1567d91d91f91adfc3f6aa140bebe57877adf444\n",
    "3.0\n",
    "1.10.4\n",
    "'''"
   ]
  },
  {
   "cell_type": "code",
   "execution_count": 3,
   "metadata": {
    "collapsed": true
   },
   "outputs": [],
   "source": [
    "# Original data from: http://esrl.noaa.gov/gmd/ccgg/trends/global.html\n",
    "data = pd.read_csv('data/co2_rate.csv')"
   ]
  },
  {
   "cell_type": "code",
   "execution_count": 4,
   "metadata": {
    "collapsed": false
   },
   "outputs": [
    {
     "data": {
      "image/png": "[encoded data removed]",
      "text/plain": [
       "<matplotlib.figure.Figure at 0xa0034e0>"
      ]
     },
     "metadata": {},
     "output_type": "display_data"
    }
   ],
   "source": [
    "plt.figure(figsize=(12,6))\n",
    "plt.xticks(rotation=70)\n",
    "sns.barplot(x='year', y='ppm_per_year', data=data, color='salmon')\n",
    "plt.ylim((0,4))\n",
    "plt.ylabel('$CO_2$ Increase', fontsize=14)\n",
    "plt.xlabel('Year', fontsize=14)\n",
    "plt.title('$CO_2$ Increase per Year', fontsize=18)\n",
    "plt.show()"
   ]
  },
  {
   "cell_type": "code",
   "execution_count": 5,
   "metadata": {
    "collapsed": true
   },
   "outputs": [],
   "source": [
    "year = np.arange(1959,2016)"
   ]
  },
  {
   "cell_type": "code",
   "execution_count": 6,
   "metadata": {
    "collapsed": false
   },
   "outputs": [
    {
     "name": "stderr",
     "output_type": "stream",
     "text": [
      "WARNING (theano.gof.compilelock): Overriding existing lock by dead process '21420' (I am process '16312')\n"
     ]
    }
   ],
   "source": [
    "with pm.Model() as model:\n",
    "    \n",
    "    # prior for distribution of switchpoint year\n",
    "    switchpoint = pm.DiscreteUniform('switchpoint', lower=year.min(), upper=year.max(), testval=1980)\n",
    "#     switchpoint = 1980\n",
    "    \n",
    "    # prior for pre- and post-switch intercept\n",
    "    a_0 = pm.Normal('a_0', 0, 1)\n",
    "    a_1 = pm.Normal('a_1', 0, 1)    \n",
    "    \n",
    "    # prior for pre- and post-switch slope\n",
    "    b_0 = pm.Normal('b_0', 0, 0.1)\n",
    "    b_1 = pm.Normal('b_1', 0, 0.1)\n",
    "    \n",
    "    # priors for sigma\n",
    "#     s = pm.Uniform('s', 0.0, 0.1)\n",
    "#     s_0 = pm.HalfCauchy('s_0', 1, testval=0.5)\n",
    "#     s_1 = pm.HalfCauchy('s_1', 1, testval=0.5)\n",
    "    \n",
    "    # Assign slopes to appropriate pre- and post-switchpoint locations\n",
    "    intercept = pm.switch(switchpoint >= year, a_0, a_1)\n",
    "    slope = pm.switch(switchpoint >= year, b_0, b_1)\n",
    "#     sigma = pm.switch(switchpoint >= year, s_0, s_1)\n",
    "    \n",
    "    # Data likelihood\n",
    "#     y_est = a_0 + b_0 * data['year']\n",
    "    y_est = intercept + slope * data['year']    \n",
    "    co2_rate = pm.Normal('co2_rate', mu=y_est , sd=0.01, observed=data['ppm_per_year'])"
   ]
  },
  {
   "cell_type": "code",
   "execution_count": 7,
   "metadata": {
    "collapsed": false
   },
   "outputs": [
    {
     "ename": "TypeError",
     "evalue": "expected type_num 9 (NPY_INT64) got 7\nApply node that caused the error: Elemwise{Composite{(i0 + (i1 * sqr((i2 - (Switch(GE(i3, i4), i5, i6) + (Switch(GE(i3, i4), i7, i8) * i9))))))}}(TensorConstant{(1L,) of 7..7246322632}, TensorConstant{(1L,) of -10000.0}, TensorConstant{[ 0.96  0....89  3.09]}, InplaceDimShuffle{x}.0, TensorConstant{[1959 1960..2014 2015]}, InplaceDimShuffle{x}.0, InplaceDimShuffle{x}.0, InplaceDimShuffle{x}.0, InplaceDimShuffle{x}.0, TensorConstant{[ 1959.  1..4.  2015.]})\nToposort index: 9\nInputs types: [TensorType(float64, (True,)), TensorType(float64, (True,)), TensorType(float64, vector), TensorType(int64, (True,)), TensorType(int32, vector), TensorType(float64, (True,)), TensorType(float64, (True,)), TensorType(float64, (True,)), TensorType(float64, (True,)), TensorType(float64, vector)]\nInputs shapes: [(1L,), (1L,), (57L,), (1L,), (57L,), (1L,), (1L,), (1L,), (1L,), (57L,)]\nInputs strides: [(8L,), (8L,), (8L,), (4L,), (4L,), (8L,), (8L,), (8L,), (8L,), (8L,)]\nInputs values: [array([ 7.37246323]), array([-10000.]), 'not shown', array([1980]), 'not shown', array([-0.00199452]), array([-0.00304758]), array([ 0.00055307]), array([ 0.00088584]), 'not shown']\nOutputs clients: [[Sum{acc_dtype=float64}(Elemwise{Composite{(i0 + (i1 * sqr((i2 - (Switch(GE(i3, i4), i5, i6) + (Switch(GE(i3, i4), i7, i8) * i9))))))}}.0)]]\n\nHINT: Re-running with most Theano optimization disabled could give you a back-trace of when this node was created. This can be done with by setting the Theano flag 'optimizer=fast_compile'. If that does not work, Theano optimizations can be disabled with 'optimizer=None'.\nHINT: Use the Theano flag 'exception_verbosity=high' for a debugprint and storage map footprint of this apply node.",
     "output_type": "error",
     "traceback": [
      "\u001b[1;31m---------------------------------------------------------------------------\u001b[0m",
      "\u001b[1;31mTypeError\u001b[0m                                 Traceback (most recent call last)",
      "\u001b[1;32m<ipython-input-7-09f350fe73d3>\u001b[0m in \u001b[0;36m<module>\u001b[1;34m()\u001b[0m\n\u001b[0;32m      6\u001b[0m     \u001b[0mstart\u001b[0m \u001b[1;33m=\u001b[0m \u001b[0mpm\u001b[0m\u001b[1;33m.\u001b[0m\u001b[0mfind_MAP\u001b[0m\u001b[1;33m(\u001b[0m\u001b[0mfmin\u001b[0m\u001b[1;33m=\u001b[0m\u001b[0mfmin_powell\u001b[0m\u001b[1;33m)\u001b[0m\u001b[1;33m\u001b[0m\u001b[0m\n\u001b[0;32m      7\u001b[0m \u001b[1;31m#     start['switchpoint'] = start['switchpoint'].astype(np.int64)\u001b[0m\u001b[1;33m\u001b[0m\u001b[1;33m\u001b[0m\u001b[0m\n\u001b[1;32m----> 8\u001b[1;33m     \u001b[0mtrace\u001b[0m \u001b[1;33m=\u001b[0m \u001b[0mpm\u001b[0m\u001b[1;33m.\u001b[0m\u001b[0msample\u001b[0m\u001b[1;33m(\u001b[0m\u001b[1;36m10000\u001b[0m\u001b[1;33m,\u001b[0m \u001b[0mstep\u001b[0m\u001b[1;33m=\u001b[0m\u001b[0mpm\u001b[0m\u001b[1;33m.\u001b[0m\u001b[0mMetropolis\u001b[0m\u001b[1;33m(\u001b[0m\u001b[1;33m)\u001b[0m\u001b[1;33m,\u001b[0m \u001b[0mstart\u001b[0m\u001b[1;33m=\u001b[0m\u001b[0mstart\u001b[0m\u001b[1;33m)\u001b[0m\u001b[1;33m\u001b[0m\u001b[0m\n\u001b[0m\u001b[0;32m      9\u001b[0m     \u001b[0mstart\u001b[0m \u001b[1;33m=\u001b[0m \u001b[0mtrace\u001b[0m\u001b[1;33m[\u001b[0m\u001b[1;33m-\u001b[0m\u001b[1;36m1\u001b[0m\u001b[1;33m]\u001b[0m\u001b[1;33m\u001b[0m\u001b[0m\n\u001b[0;32m     10\u001b[0m \u001b[1;31m#     step1 = pm.NUTS([a_0, a_1, b_0, b_1], scaling=start)\u001b[0m\u001b[1;33m\u001b[0m\u001b[1;33m\u001b[0m\u001b[0m\n",
      "\u001b[1;32mC:\\Anaconda\\envs\\theano_test\\lib\\site-packages\\pymc3\\sampling.pyc\u001b[0m in \u001b[0;36msample\u001b[1;34m(draws, step, start, trace, chain, njobs, tune, progressbar, model, random_seed)\u001b[0m\n\u001b[0;32m    147\u001b[0m         \u001b[0msample_func\u001b[0m \u001b[1;33m=\u001b[0m \u001b[0m_sample\u001b[0m\u001b[1;33m\u001b[0m\u001b[0m\n\u001b[0;32m    148\u001b[0m \u001b[1;33m\u001b[0m\u001b[0m\n\u001b[1;32m--> 149\u001b[1;33m     \u001b[1;32mreturn\u001b[0m \u001b[0msample_func\u001b[0m\u001b[1;33m(\u001b[0m\u001b[1;33m**\u001b[0m\u001b[0msample_args\u001b[0m\u001b[1;33m)\u001b[0m\u001b[1;33m\u001b[0m\u001b[0m\n\u001b[0m\u001b[0;32m    150\u001b[0m \u001b[1;33m\u001b[0m\u001b[0m\n\u001b[0;32m    151\u001b[0m \u001b[1;33m\u001b[0m\u001b[0m\n",
      "\u001b[1;32mC:\\Anaconda\\envs\\theano_test\\lib\\site-packages\\pymc3\\sampling.pyc\u001b[0m in \u001b[0;36m_sample\u001b[1;34m(draws, step, start, trace, chain, tune, progressbar, model, random_seed)\u001b[0m\n\u001b[0;32m    156\u001b[0m     \u001b[0mprogress\u001b[0m \u001b[1;33m=\u001b[0m \u001b[0mprogress_bar\u001b[0m\u001b[1;33m(\u001b[0m\u001b[0mdraws\u001b[0m\u001b[1;33m)\u001b[0m\u001b[1;33m\u001b[0m\u001b[0m\n\u001b[0;32m    157\u001b[0m     \u001b[1;32mtry\u001b[0m\u001b[1;33m:\u001b[0m\u001b[1;33m\u001b[0m\u001b[0m\n\u001b[1;32m--> 158\u001b[1;33m         \u001b[1;32mfor\u001b[0m \u001b[0mi\u001b[0m\u001b[1;33m,\u001b[0m \u001b[0mstrace\u001b[0m \u001b[1;32min\u001b[0m \u001b[0menumerate\u001b[0m\u001b[1;33m(\u001b[0m\u001b[0msampling\u001b[0m\u001b[1;33m)\u001b[0m\u001b[1;33m:\u001b[0m\u001b[1;33m\u001b[0m\u001b[0m\n\u001b[0m\u001b[0;32m    159\u001b[0m             \u001b[1;32mif\u001b[0m \u001b[0mprogressbar\u001b[0m\u001b[1;33m:\u001b[0m\u001b[1;33m\u001b[0m\u001b[0m\n\u001b[0;32m    160\u001b[0m                 \u001b[0mprogress\u001b[0m\u001b[1;33m.\u001b[0m\u001b[0mupdate\u001b[0m\u001b[1;33m(\u001b[0m\u001b[0mi\u001b[0m\u001b[1;33m)\u001b[0m\u001b[1;33m\u001b[0m\u001b[0m\n",
      "\u001b[1;32mC:\\Anaconda\\envs\\theano_test\\lib\\site-packages\\pymc3\\sampling.pyc\u001b[0m in \u001b[0;36m_iter_sample\u001b[1;34m(draws, step, start, trace, chain, tune, model, random_seed)\u001b[0m\n\u001b[0;32m    238\u001b[0m         \u001b[1;32mif\u001b[0m \u001b[0mi\u001b[0m \u001b[1;33m==\u001b[0m \u001b[0mtune\u001b[0m\u001b[1;33m:\u001b[0m\u001b[1;33m\u001b[0m\u001b[0m\n\u001b[0;32m    239\u001b[0m             \u001b[0mstep\u001b[0m \u001b[1;33m=\u001b[0m \u001b[0mstop_tuning\u001b[0m\u001b[1;33m(\u001b[0m\u001b[0mstep\u001b[0m\u001b[1;33m)\u001b[0m\u001b[1;33m\u001b[0m\u001b[0m\n\u001b[1;32m--> 240\u001b[1;33m         \u001b[0mpoint\u001b[0m \u001b[1;33m=\u001b[0m \u001b[0mstep\u001b[0m\u001b[1;33m.\u001b[0m\u001b[0mstep\u001b[0m\u001b[1;33m(\u001b[0m\u001b[0mpoint\u001b[0m\u001b[1;33m)\u001b[0m\u001b[1;33m\u001b[0m\u001b[0m\n\u001b[0m\u001b[0;32m    241\u001b[0m         \u001b[0mstrace\u001b[0m\u001b[1;33m.\u001b[0m\u001b[0mrecord\u001b[0m\u001b[1;33m(\u001b[0m\u001b[0mpoint\u001b[0m\u001b[1;33m)\u001b[0m\u001b[1;33m\u001b[0m\u001b[0m\n\u001b[0;32m    242\u001b[0m         \u001b[1;32myield\u001b[0m \u001b[0mstrace\u001b[0m\u001b[1;33m\u001b[0m\u001b[0m\n",
      "\u001b[1;32mC:\\Anaconda\\envs\\theano_test\\lib\\site-packages\\pymc3\\step_methods\\compound.pyc\u001b[0m in \u001b[0;36mstep\u001b[1;34m(self, point)\u001b[0m\n\u001b[0;32m     12\u001b[0m     \u001b[1;32mdef\u001b[0m \u001b[0mstep\u001b[0m\u001b[1;33m(\u001b[0m\u001b[0mself\u001b[0m\u001b[1;33m,\u001b[0m \u001b[0mpoint\u001b[0m\u001b[1;33m)\u001b[0m\u001b[1;33m:\u001b[0m\u001b[1;33m\u001b[0m\u001b[0m\n\u001b[0;32m     13\u001b[0m         \u001b[1;32mfor\u001b[0m \u001b[0mmethod\u001b[0m \u001b[1;32min\u001b[0m \u001b[0mself\u001b[0m\u001b[1;33m.\u001b[0m\u001b[0mmethods\u001b[0m\u001b[1;33m:\u001b[0m\u001b[1;33m\u001b[0m\u001b[0m\n\u001b[1;32m---> 14\u001b[1;33m             \u001b[0mpoint\u001b[0m \u001b[1;33m=\u001b[0m \u001b[0mmethod\u001b[0m\u001b[1;33m.\u001b[0m\u001b[0mstep\u001b[0m\u001b[1;33m(\u001b[0m\u001b[0mpoint\u001b[0m\u001b[1;33m)\u001b[0m\u001b[1;33m\u001b[0m\u001b[0m\n\u001b[0m\u001b[0;32m     15\u001b[0m         \u001b[1;32mreturn\u001b[0m \u001b[0mpoint\u001b[0m\u001b[1;33m\u001b[0m\u001b[0m\n",
      "\u001b[1;32mC:\\Anaconda\\envs\\theano_test\\lib\\site-packages\\pymc3\\step_methods\\arraystep.pyc\u001b[0m in \u001b[0;36mstep\u001b[1;34m(self, point)\u001b[0m\n\u001b[0;32m    116\u001b[0m         \u001b[0mbij\u001b[0m \u001b[1;33m=\u001b[0m \u001b[0mDictToArrayBijection\u001b[0m\u001b[1;33m(\u001b[0m\u001b[0mself\u001b[0m\u001b[1;33m.\u001b[0m\u001b[0mordering\u001b[0m\u001b[1;33m,\u001b[0m \u001b[0mpoint\u001b[0m\u001b[1;33m)\u001b[0m\u001b[1;33m\u001b[0m\u001b[0m\n\u001b[0;32m    117\u001b[0m \u001b[1;33m\u001b[0m\u001b[0m\n\u001b[1;32m--> 118\u001b[1;33m         \u001b[0mapoint\u001b[0m \u001b[1;33m=\u001b[0m \u001b[0mself\u001b[0m\u001b[1;33m.\u001b[0m\u001b[0mastep\u001b[0m\u001b[1;33m(\u001b[0m\u001b[0mbij\u001b[0m\u001b[1;33m.\u001b[0m\u001b[0mmap\u001b[0m\u001b[1;33m(\u001b[0m\u001b[0mpoint\u001b[0m\u001b[1;33m)\u001b[0m\u001b[1;33m)\u001b[0m\u001b[1;33m\u001b[0m\u001b[0m\n\u001b[0m\u001b[0;32m    119\u001b[0m         \u001b[1;32mreturn\u001b[0m \u001b[0mbij\u001b[0m\u001b[1;33m.\u001b[0m\u001b[0mrmap\u001b[0m\u001b[1;33m(\u001b[0m\u001b[0mapoint\u001b[0m\u001b[1;33m)\u001b[0m\u001b[1;33m\u001b[0m\u001b[0m\n\u001b[0;32m    120\u001b[0m \u001b[1;33m\u001b[0m\u001b[0m\n",
      "\u001b[1;32mC:\\Anaconda\\envs\\theano_test\\lib\\site-packages\\pymc3\\step_methods\\metropolis.pyc\u001b[0m in \u001b[0;36mastep\u001b[1;34m(self, q0)\u001b[0m\n\u001b[0;32m    123\u001b[0m             \u001b[0mq\u001b[0m \u001b[1;33m=\u001b[0m \u001b[0mq0\u001b[0m \u001b[1;33m+\u001b[0m \u001b[0mdelta\u001b[0m\u001b[1;33m\u001b[0m\u001b[0m\n\u001b[0;32m    124\u001b[0m \u001b[1;33m\u001b[0m\u001b[0m\n\u001b[1;32m--> 125\u001b[1;33m         \u001b[0mq_new\u001b[0m \u001b[1;33m=\u001b[0m \u001b[0mmetrop_select\u001b[0m\u001b[1;33m(\u001b[0m\u001b[0mself\u001b[0m\u001b[1;33m.\u001b[0m\u001b[0mdelta_logp\u001b[0m\u001b[1;33m(\u001b[0m\u001b[0mq\u001b[0m\u001b[1;33m,\u001b[0m \u001b[0mq0\u001b[0m\u001b[1;33m)\u001b[0m\u001b[1;33m,\u001b[0m \u001b[0mq\u001b[0m\u001b[1;33m,\u001b[0m \u001b[0mq0\u001b[0m\u001b[1;33m)\u001b[0m\u001b[1;33m\u001b[0m\u001b[0m\n\u001b[0m\u001b[0;32m    126\u001b[0m \u001b[1;33m\u001b[0m\u001b[0m\n\u001b[0;32m    127\u001b[0m         \u001b[1;32mif\u001b[0m \u001b[0mq_new\u001b[0m \u001b[1;32mis\u001b[0m \u001b[0mq\u001b[0m\u001b[1;33m:\u001b[0m\u001b[1;33m\u001b[0m\u001b[0m\n",
      "\u001b[1;32mC:\\Anaconda\\envs\\theano_test\\lib\\site-packages\\theano\\compile\\function_module.pyc\u001b[0m in \u001b[0;36m__call__\u001b[1;34m(self, *args, **kwargs)\u001b[0m\n\u001b[0;32m    869\u001b[0m                     \u001b[0mnode\u001b[0m\u001b[1;33m=\u001b[0m\u001b[0mself\u001b[0m\u001b[1;33m.\u001b[0m\u001b[0mfn\u001b[0m\u001b[1;33m.\u001b[0m\u001b[0mnodes\u001b[0m\u001b[1;33m[\u001b[0m\u001b[0mself\u001b[0m\u001b[1;33m.\u001b[0m\u001b[0mfn\u001b[0m\u001b[1;33m.\u001b[0m\u001b[0mposition_of_error\u001b[0m\u001b[1;33m]\u001b[0m\u001b[1;33m,\u001b[0m\u001b[1;33m\u001b[0m\u001b[0m\n\u001b[0;32m    870\u001b[0m                     \u001b[0mthunk\u001b[0m\u001b[1;33m=\u001b[0m\u001b[0mthunk\u001b[0m\u001b[1;33m,\u001b[0m\u001b[1;33m\u001b[0m\u001b[0m\n\u001b[1;32m--> 871\u001b[1;33m                     storage_map=getattr(self.fn, 'storage_map', None))\n\u001b[0m\u001b[0;32m    872\u001b[0m             \u001b[1;32melse\u001b[0m\u001b[1;33m:\u001b[0m\u001b[1;33m\u001b[0m\u001b[0m\n\u001b[0;32m    873\u001b[0m                 \u001b[1;31m# old-style linkers raise their own exceptions\u001b[0m\u001b[1;33m\u001b[0m\u001b[1;33m\u001b[0m\u001b[0m\n",
      "\u001b[1;32mC:\\Anaconda\\envs\\theano_test\\lib\\site-packages\\theano\\gof\\link.pyc\u001b[0m in \u001b[0;36mraise_with_op\u001b[1;34m(node, thunk, exc_info, storage_map)\u001b[0m\n\u001b[0;32m    312\u001b[0m         \u001b[1;31m# extra long error message in that case.\u001b[0m\u001b[1;33m\u001b[0m\u001b[1;33m\u001b[0m\u001b[0m\n\u001b[0;32m    313\u001b[0m         \u001b[1;32mpass\u001b[0m\u001b[1;33m\u001b[0m\u001b[0m\n\u001b[1;32m--> 314\u001b[1;33m     \u001b[0mreraise\u001b[0m\u001b[1;33m(\u001b[0m\u001b[0mexc_type\u001b[0m\u001b[1;33m,\u001b[0m \u001b[0mexc_value\u001b[0m\u001b[1;33m,\u001b[0m \u001b[0mexc_trace\u001b[0m\u001b[1;33m)\u001b[0m\u001b[1;33m\u001b[0m\u001b[0m\n\u001b[0m\u001b[0;32m    315\u001b[0m \u001b[1;33m\u001b[0m\u001b[0m\n\u001b[0;32m    316\u001b[0m \u001b[1;33m\u001b[0m\u001b[0m\n",
      "\u001b[1;32mC:\\Anaconda\\envs\\theano_test\\lib\\site-packages\\theano\\compile\\function_module.pyc\u001b[0m in \u001b[0;36m__call__\u001b[1;34m(self, *args, **kwargs)\u001b[0m\n\u001b[0;32m    857\u001b[0m         \u001b[0mt0_fn\u001b[0m \u001b[1;33m=\u001b[0m \u001b[0mtime\u001b[0m\u001b[1;33m.\u001b[0m\u001b[0mtime\u001b[0m\u001b[1;33m(\u001b[0m\u001b[1;33m)\u001b[0m\u001b[1;33m\u001b[0m\u001b[0m\n\u001b[0;32m    858\u001b[0m         \u001b[1;32mtry\u001b[0m\u001b[1;33m:\u001b[0m\u001b[1;33m\u001b[0m\u001b[0m\n\u001b[1;32m--> 859\u001b[1;33m             \u001b[0moutputs\u001b[0m \u001b[1;33m=\u001b[0m \u001b[0mself\u001b[0m\u001b[1;33m.\u001b[0m\u001b[0mfn\u001b[0m\u001b[1;33m(\u001b[0m\u001b[1;33m)\u001b[0m\u001b[1;33m\u001b[0m\u001b[0m\n\u001b[0m\u001b[0;32m    860\u001b[0m         \u001b[1;32mexcept\u001b[0m \u001b[0mException\u001b[0m\u001b[1;33m:\u001b[0m\u001b[1;33m\u001b[0m\u001b[0m\n\u001b[0;32m    861\u001b[0m             \u001b[1;32mif\u001b[0m \u001b[0mhasattr\u001b[0m\u001b[1;33m(\u001b[0m\u001b[0mself\u001b[0m\u001b[1;33m.\u001b[0m\u001b[0mfn\u001b[0m\u001b[1;33m,\u001b[0m \u001b[1;34m'position_of_error'\u001b[0m\u001b[1;33m)\u001b[0m\u001b[1;33m:\u001b[0m\u001b[1;33m\u001b[0m\u001b[0m\n",
      "\u001b[1;31mTypeError\u001b[0m: expected type_num 9 (NPY_INT64) got 7\nApply node that caused the error: Elemwise{Composite{(i0 + (i1 * sqr((i2 - (Switch(GE(i3, i4), i5, i6) + (Switch(GE(i3, i4), i7, i8) * i9))))))}}(TensorConstant{(1L,) of 7..7246322632}, TensorConstant{(1L,) of -10000.0}, TensorConstant{[ 0.96  0....89  3.09]}, InplaceDimShuffle{x}.0, TensorConstant{[1959 1960..2014 2015]}, InplaceDimShuffle{x}.0, InplaceDimShuffle{x}.0, InplaceDimShuffle{x}.0, InplaceDimShuffle{x}.0, TensorConstant{[ 1959.  1..4.  2015.]})\nToposort index: 9\nInputs types: [TensorType(float64, (True,)), TensorType(float64, (True,)), TensorType(float64, vector), TensorType(int64, (True,)), TensorType(int32, vector), TensorType(float64, (True,)), TensorType(float64, (True,)), TensorType(float64, (True,)), TensorType(float64, (True,)), TensorType(float64, vector)]\nInputs shapes: [(1L,), (1L,), (57L,), (1L,), (57L,), (1L,), (1L,), (1L,), (1L,), (57L,)]\nInputs strides: [(8L,), (8L,), (8L,), (4L,), (4L,), (8L,), (8L,), (8L,), (8L,), (8L,)]\nInputs values: [array([ 7.37246323]), array([-10000.]), 'not shown', array([1980]), 'not shown', array([-0.00199452]), array([-0.00304758]), array([ 0.00055307]), array([ 0.00088584]), 'not shown']\nOutputs clients: [[Sum{acc_dtype=float64}(Elemwise{Composite{(i0 + (i1 * sqr((i2 - (Switch(GE(i3, i4), i5, i6) + (Switch(GE(i3, i4), i7, i8) * i9))))))}}.0)]]\n\nHINT: Re-running with most Theano optimization disabled could give you a back-trace of when this node was created. This can be done with by setting the Theano flag 'optimizer=fast_compile'. If that does not work, Theano optimizations can be disabled with 'optimizer=None'.\nHINT: Use the Theano flag 'exception_verbosity=high' for a debugprint and storage map footprint of this apply node."
     ]
    }
   ],
   "source": [
    "n = 10000\n",
    "burn = n/2\n",
    "stride = 5\n",
    "\n",
    "with model:\n",
    "    start = pm.find_MAP(fmin=fmin_powell)\n",
    "#     start['switchpoint'] = start['switchpoint'].astype(np.int64)\n",
    "    trace = pm.sample(10000, step=pm.Metropolis(), start=start)\n",
    "    start = trace[-1]\n",
    "#     step1 = pm.NUTS([a_0, a_1, b_0, b_1], scaling=start)\n",
    "    step1 = pm.NUTS(scaling=start)\n",
    "    step2 = pm.Metropolis([switchpoint])\n",
    "    trace = pm.sample(n, step=[step1, step2], start=start)"
   ]
  },
  {
   "cell_type": "code",
   "execution_count": null,
   "metadata": {
    "collapsed": false
   },
   "outputs": [],
   "source": [
    "# Only use last half of trace, and every 10th point\n",
    "pm.traceplot(trace[burn::stride])\n",
    "# pm.traceplot(trace[-n/2::10], vars=['switchpoint', 'b_0', 'b_1'])\n",
    "plt.show()"
   ]
  },
  {
   "cell_type": "code",
   "execution_count": null,
   "metadata": {
    "collapsed": false
   },
   "outputs": [],
   "source": [
    "plt.figure(figsize=(12,4))\n",
    "plt.hist(trace[-n/2::10]['switchpoint'], bins=np.arange(1959, 2016))\n",
    "plt.title('Likelihood of Change in Slope', fontsize=18)\n",
    "plt.xlabel('Year', fontsize=14)\n",
    "plt.show()"
   ]
  },
  {
   "cell_type": "code",
   "execution_count": null,
   "metadata": {
    "collapsed": false
   },
   "outputs": [],
   "source": [
    "plt.figure(figsize=(12,6))\n",
    "\n",
    "plt.xticks(rotation=70)\n",
    "plt.scatter(data['year'], data['ppm_per_year'])\n",
    "plt.ylim((0,4))\n",
    "plt.ylabel('$CO_2$ Increase', fontsize=14)\n",
    "plt.xlabel('Year', fontsize=14)\n",
    "plt.title('$CO_2$ Increase per Year', fontsize=18)\n",
    "\n",
    "x = np.arange(1959, switchpoint)\n",
    "y = np.median(trace[-n/2::10]['a_0']) + np.median(trace[-n/2::10]['b_0']) * x\n",
    "plt.plot(x, y)\n",
    "\n",
    "x = np.arange(switchpoint, 2020)\n",
    "y = np.median(trace[-n/2::5]['a_1']) + np.median(trace[-n/2::5]['b_1']) * x\n",
    "plt.plot(x, y)\n",
    "\n",
    "plt.show()"
   ]
  },
  {
   "cell_type": "code",
   "execution_count": null,
   "metadata": {
    "collapsed": false
   },
   "outputs": [],
   "source": [
    "print(np.median(trace[-n/2::5]['switchpoint']))\n",
    "print(np.median(trace[-n/2::5]['b_0']))\n",
    "print(np.median(trace[-n/2::5]['b_1']))"
   ]
  },
  {
   "cell_type": "code",
   "execution_count": null,
   "metadata": {
    "collapsed": false
   },
   "outputs": [],
   "source": []
  },
  {
   "cell_type": "raw",
   "metadata": {},
   "source": []
  },
  {
   "cell_type": "code",
   "execution_count": null,
   "metadata": {
    "collapsed": false
   },
   "outputs": [],
   "source": []
  },
  {
   "cell_type": "code",
   "execution_count": null,
   "metadata": {
    "collapsed": false
   },
   "outputs": [],
   "source": [
    "import theano; theano.__version__"
   ]
  },
  {
   "cell_type": "code",
   "execution_count": null,
   "metadata": {
    "collapsed": false
   },
   "outputs": [],
   "source": [
    "pm.__version__"
   ]
  },
  {
   "cell_type": "code",
   "execution_count": null,
   "metadata": {
    "collapsed": true
   },
   "outputs": [],
   "source": []
  },
  {
   "cell_type": "code",
   "execution_count": null,
   "metadata": {
    "collapsed": true
   },
   "outputs": [],
   "source": []
  }
 ],
 "metadata": {
  "kernelspec": {
   "display_name": "Python 2",
   "language": "python",
   "name": "python2"
  },
  "language_info": {
   "codemirror_mode": {
    "name": "ipython",
    "version": 2
   },
   "file_extension": ".py",
   "mimetype": "text/x-python",
   "name": "python",
   "nbconvert_exporter": "python",
   "pygments_lexer": "ipython2",
   "version": "2.7.11"
  }
 },
 "nbformat": 4,
 "nbformat_minor": 0
}
